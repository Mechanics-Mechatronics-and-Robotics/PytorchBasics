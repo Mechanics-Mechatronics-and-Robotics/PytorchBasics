{
  "nbformat": 4,
  "nbformat_minor": 0,
  "metadata": {
    "colab": {
      "provenance": [],
      "authorship_tag": "ABX9TyMyXHA3rE6FdLBxn0nTwbK5",
      "include_colab_link": true
    },
    "kernelspec": {
      "name": "python3",
      "display_name": "Python 3"
    },
    "language_info": {
      "name": "python"
    },
    "accelerator": "GPU",
    "gpuClass": "standard"
  },
  "cells": [
    {
      "cell_type": "markdown",
      "metadata": {
        "id": "view-in-github",
        "colab_type": "text"
      },
      "source": [
        "<a href=\"https://colab.research.google.com/github/Mechanics-Mechatronics-and-Robotics/PytorchBasics/blob/main/02_tensor_basics.ipynb\" target=\"_parent\"><img src=\"https://colab.research.google.com/assets/colab-badge.svg\" alt=\"Open In Colab\"/></a>"
      ]
    },
    {
      "cell_type": "markdown",
      "source": [
        "# Download and Install library"
      ],
      "metadata": {
        "id": "hN9UOd7hbjIL"
      }
    },
    {
      "cell_type": "code",
      "execution_count": 2,
      "metadata": {
        "id": "dcfcg1WFzPUY"
      },
      "outputs": [],
      "source": [
        "import torch\n",
        "import numpy as np"
      ]
    },
    {
      "cell_type": "markdown",
      "source": [
        "# Scalars, vectors, matrices, and tensors"
      ],
      "metadata": {
        "id": "E79y1YS4dxcK"
      }
    },
    {
      "cell_type": "code",
      "source": [
        "x = torch.empty(2,3)\n",
        "x"
      ],
      "metadata": {
        "colab": {
          "base_uri": "https://localhost:8080/"
        },
        "id": "ynseUoROd6YP",
        "outputId": "0e8d05cc-ecba-4ad9-bc74-e626c69a98d6"
      },
      "execution_count": 3,
      "outputs": [
        {
          "output_type": "execute_result",
          "data": {
            "text/plain": [
              "tensor([[5.7670e-35, 0.0000e+00, 3.3631e-44],\n",
              "        [0.0000e+00,        nan, 0.0000e+00]])"
            ]
          },
          "metadata": {},
          "execution_count": 3
        }
      ]
    },
    {
      "cell_type": "code",
      "source": [
        "y = torch.rand(2,2, dtype=torch.float16)\n",
        "y.dtype, y, y.size()"
      ],
      "metadata": {
        "colab": {
          "base_uri": "https://localhost:8080/"
        },
        "id": "j8jwIACHeabG",
        "outputId": "d23dff16-a6e7-45e4-b2ff-3b2ecada8b27"
      },
      "execution_count": 4,
      "outputs": [
        {
          "output_type": "execute_result",
          "data": {
            "text/plain": [
              "(torch.float16, tensor([[0.5732, 0.8423],\n",
              "         [0.6309, 0.5884]], dtype=torch.float16), torch.Size([2, 2]))"
            ]
          },
          "metadata": {},
          "execution_count": 4
        }
      ]
    },
    {
      "cell_type": "code",
      "source": [
        "x = torch.tensor([[1,2],[3,4]])\n",
        "x"
      ],
      "metadata": {
        "colab": {
          "base_uri": "https://localhost:8080/"
        },
        "id": "tqCSE49xeiy1",
        "outputId": "32ff9bb9-b51a-427c-a5ed-b4486a1be2f3"
      },
      "execution_count": 5,
      "outputs": [
        {
          "output_type": "execute_result",
          "data": {
            "text/plain": [
              "tensor([[1, 2],\n",
              "        [3, 4]])"
            ]
          },
          "metadata": {},
          "execution_count": 5
        }
      ]
    },
    {
      "cell_type": "code",
      "source": [
        "z = x + y\n",
        "z, z[0,0]"
      ],
      "metadata": {
        "colab": {
          "base_uri": "https://localhost:8080/"
        },
        "id": "68uRwEKFfDkY",
        "outputId": "376141cb-9226-4369-94f1-9cee5819cbb4"
      },
      "execution_count": 6,
      "outputs": [
        {
          "output_type": "execute_result",
          "data": {
            "text/plain": [
              "(tensor([[1.5732, 2.8418],\n",
              "         [3.6309, 4.5898]], dtype=torch.float16),\n",
              " tensor(1.5732, dtype=torch.float16))"
            ]
          },
          "metadata": {},
          "execution_count": 6
        }
      ]
    },
    {
      "cell_type": "code",
      "source": [
        "w = x*y\n",
        "w, w.size()"
      ],
      "metadata": {
        "colab": {
          "base_uri": "https://localhost:8080/"
        },
        "id": "H9kW_9tGfg2L",
        "outputId": "af5d1553-8d92-42ad-f348-aa2e24adc793"
      },
      "execution_count": 7,
      "outputs": [
        {
          "output_type": "execute_result",
          "data": {
            "text/plain": [
              "(tensor([[0.5732, 1.6846],\n",
              "         [1.8926, 2.3535]], dtype=torch.float16), torch.Size([2, 2]))"
            ]
          },
          "metadata": {},
          "execution_count": 7
        }
      ]
    },
    {
      "cell_type": "code",
      "source": [
        "r = w.view(4)\n",
        "r"
      ],
      "metadata": {
        "colab": {
          "base_uri": "https://localhost:8080/"
        },
        "id": "Z2cJGHPLgV6O",
        "outputId": "06bdb91a-c24b-45d8-9760-47ff5b52c9bd"
      },
      "execution_count": 8,
      "outputs": [
        {
          "output_type": "execute_result",
          "data": {
            "text/plain": [
              "tensor([0.5732, 1.6846, 1.8926, 2.3535], dtype=torch.float16)"
            ]
          },
          "metadata": {},
          "execution_count": 8
        }
      ]
    },
    {
      "cell_type": "code",
      "source": [
        "a = torch.ones(5)\n",
        "b = a.numpy()\n",
        "c = torch.from_numpy(b)\n",
        "a, b, c"
      ],
      "metadata": {
        "colab": {
          "base_uri": "https://localhost:8080/"
        },
        "id": "otg40cNqgrxu",
        "outputId": "f3a79650-e574-4a45-97bd-8ef5beded3fd"
      },
      "execution_count": 9,
      "outputs": [
        {
          "output_type": "execute_result",
          "data": {
            "text/plain": [
              "(tensor([1., 1., 1., 1., 1.]),\n",
              " array([1., 1., 1., 1., 1.], dtype=float32),\n",
              " tensor([1., 1., 1., 1., 1.]))"
            ]
          },
          "metadata": {},
          "execution_count": 9
        }
      ]
    },
    {
      "cell_type": "markdown",
      "source": [
        "## Create tensor using GPU (numpy operates with CPU only)"
      ],
      "metadata": {
        "id": "M8WpPdF9hpG5"
      }
    },
    {
      "cell_type": "code",
      "source": [
        "torch.cuda.is_available()"
      ],
      "metadata": {
        "colab": {
          "base_uri": "https://localhost:8080/"
        },
        "id": "0l_YiobZhjVz",
        "outputId": "1d76d355-9062-4d50-a14c-04dc1354d4a5"
      },
      "execution_count": 11,
      "outputs": [
        {
          "output_type": "execute_result",
          "data": {
            "text/plain": [
              "True"
            ]
          },
          "metadata": {},
          "execution_count": 11
        }
      ]
    },
    {
      "cell_type": "code",
      "source": [
        "if torch.cuda.is_available():\n",
        "  device = torch.device('cuda')\n",
        "  x = torch.ones(5, device=device)\n",
        "  y = torch.ones(5)\n",
        "  y = y.to(device)\n",
        "  z = x + y\n",
        "  z= z.to('cpu')"
      ],
      "metadata": {
        "id": "5eCQxCjVdQ8y"
      },
      "execution_count": 10,
      "outputs": []
    },
    {
      "cell_type": "markdown",
      "source": [
        "## Use gradients"
      ],
      "metadata": {
        "id": "I8gXTmB8im_m"
      }
    },
    {
      "cell_type": "code",
      "source": [
        "x = torch.ones(5,requires_grad=True)\n",
        "x"
      ],
      "metadata": {
        "colab": {
          "base_uri": "https://localhost:8080/"
        },
        "id": "VqDNjf2_iOKy",
        "outputId": "648848cc-ddf9-4e1f-9ed1-201e9a2121c6"
      },
      "execution_count": 13,
      "outputs": [
        {
          "output_type": "execute_result",
          "data": {
            "text/plain": [
              "tensor([1., 1., 1., 1., 1.], requires_grad=True)"
            ]
          },
          "metadata": {},
          "execution_count": 13
        }
      ]
    },
    {
      "cell_type": "code",
      "source": [],
      "metadata": {
        "id": "L_NWDdG5iviC"
      },
      "execution_count": null,
      "outputs": []
    }
  ]
}