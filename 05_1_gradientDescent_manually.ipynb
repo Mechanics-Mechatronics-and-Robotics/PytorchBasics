{
  "nbformat": 4,
  "nbformat_minor": 0,
  "metadata": {
    "colab": {
      "provenance": [],
      "authorship_tag": "ABX9TyM6C5NVs0aDeXnRNOi3MVki",
      "include_colab_link": true
    },
    "kernelspec": {
      "name": "python3",
      "display_name": "Python 3"
    },
    "language_info": {
      "name": "python"
    }
  },
  "cells": [
    {
      "cell_type": "markdown",
      "metadata": {
        "id": "view-in-github",
        "colab_type": "text"
      },
      "source": [
        "<a href=\"https://colab.research.google.com/github/Mechanics-Mechatronics-and-Robotics/PytorchBasics/blob/main/05_1_gradientDescent_manually.ipynb\" target=\"_parent\"><img src=\"https://colab.research.google.com/assets/colab-badge.svg\" alt=\"Open In Colab\"/></a>"
      ]
    },
    {
      "cell_type": "markdown",
      "source": [
        "# Import libraries"
      ],
      "metadata": {
        "id": "cUmKjfNTKMkh"
      }
    },
    {
      "cell_type": "code",
      "execution_count": 9,
      "metadata": {
        "id": "w4v7kmaLJ_O0"
      },
      "outputs": [],
      "source": [
        "import numpy as np\n"
      ]
    },
    {
      "cell_type": "markdown",
      "source": [
        "## Initialization"
      ],
      "metadata": {
        "id": "jNtgNQ3AK5RH"
      }
    },
    {
      "cell_type": "code",
      "source": [
        "#y=2*x\n",
        "X = np.array([1,2,3,4], dtype=np.float32)\n",
        "Y = np.array([2,4,6,8], dtype=np.float32)\n",
        "\n",
        "w = 0.0"
      ],
      "metadata": {
        "id": "fJRe0MBjKMF5"
      },
      "execution_count": 10,
      "outputs": []
    },
    {
      "cell_type": "markdown",
      "source": [
        "## Model prediction"
      ],
      "metadata": {
        "id": "9wT0jf47K0Cu"
      }
    },
    {
      "cell_type": "code",
      "source": [
        "def forward(x):\n",
        "  return w*x"
      ],
      "metadata": {
        "id": "mMkRXn6sKxKe"
      },
      "execution_count": 11,
      "outputs": []
    },
    {
      "cell_type": "markdown",
      "source": [
        "## Loss that is MSE (mean square error)"
      ],
      "metadata": {
        "id": "Jo4e6JrULHfg"
      }
    },
    {
      "cell_type": "code",
      "source": [
        "def loss(y, y_predicted):\n",
        "  return ((y_predicted - y)**2).mean()"
      ],
      "metadata": {
        "id": "A_cxVyOJLFM3"
      },
      "execution_count": 12,
      "outputs": []
    },
    {
      "cell_type": "markdown",
      "source": [
        "## Gradient of the loss"
      ],
      "metadata": {
        "id": "AWkNg51RLNVz"
      }
    },
    {
      "cell_type": "code",
      "source": [
        "def gradient(x,y,y_predicted):\n",
        "  return np.dot(2*x, y_predicted - y).mean()\n",
        "print(f'Prediction before training: f(5) = {forward(5):.3f}')"
      ],
      "metadata": {
        "id": "wfUslznLLC4o",
        "outputId": "0c5b4ce8-a726-4250-b963-909d2f24e544",
        "colab": {
          "base_uri": "https://localhost:8080/"
        }
      },
      "execution_count": 13,
      "outputs": [
        {
          "output_type": "stream",
          "name": "stdout",
          "text": [
            "Prediction before training: f(5) = 0.000\n"
          ]
        }
      ]
    },
    {
      "cell_type": "markdown",
      "source": [
        "# Training"
      ],
      "metadata": {
        "id": "WQJqt-DNYeBo"
      }
    },
    {
      "cell_type": "code",
      "source": [
        "lr = 0.01\n",
        "n = 10\n",
        "\n",
        "for epoch in range(n):\n",
        "  #prediciton\n",
        "  y_pred = forward(X)\n",
        "  #loss\n",
        "  L = loss(Y, y_pred)\n",
        "  #gradients\n",
        "  dw = gradient(X,Y,y_pred)\n",
        "  #update\n",
        "  w -= lr*dw\n",
        "\n",
        "  if epoch % 1 == 0:\n",
        "    print(f'epoch {epoch+1}: w = {w:.3f}, loss = {L:.8f}')\n",
        "\n",
        "print(f'Prediction after training: f(5) = {forward(5):.3f}')\n",
        "\n",
        "\n",
        "\n",
        "\n",
        "  "
      ],
      "metadata": {
        "id": "HZ4xOWowYHgl",
        "outputId": "d0a58528-2ba1-48c6-ed1e-0570db3b4472",
        "colab": {
          "base_uri": "https://localhost:8080/"
        }
      },
      "execution_count": 15,
      "outputs": [
        {
          "output_type": "stream",
          "name": "stdout",
          "text": [
            "epoch 1: w = 2.000, loss = 0.00000033\n",
            "epoch 2: w = 2.000, loss = 0.00000005\n",
            "epoch 3: w = 2.000, loss = 0.00000001\n",
            "epoch 4: w = 2.000, loss = 0.00000000\n",
            "epoch 5: w = 2.000, loss = 0.00000000\n",
            "epoch 6: w = 2.000, loss = 0.00000000\n",
            "epoch 7: w = 2.000, loss = 0.00000000\n",
            "epoch 8: w = 2.000, loss = 0.00000000\n",
            "epoch 9: w = 2.000, loss = 0.00000000\n",
            "epoch 10: w = 2.000, loss = 0.00000000\n",
            "Prediction after training: f(5) = 10.000\n"
          ]
        }
      ]
    },
    {
      "cell_type": "code",
      "source": [],
      "metadata": {
        "id": "lv74PTpfZuQc"
      },
      "execution_count": 14,
      "outputs": []
    }
  ]
}