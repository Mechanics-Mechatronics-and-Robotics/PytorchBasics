{
  "nbformat": 4,
  "nbformat_minor": 0,
  "metadata": {
    "colab": {
      "provenance": [],
      "authorship_tag": "ABX9TyM67bI5COX1fNcrz0zcVh9m",
      "include_colab_link": true
    },
    "kernelspec": {
      "name": "python3",
      "display_name": "Python 3"
    },
    "language_info": {
      "name": "python"
    }
  },
  "cells": [
    {
      "cell_type": "markdown",
      "metadata": {
        "id": "view-in-github",
        "colab_type": "text"
      },
      "source": [
        "<a href=\"https://colab.research.google.com/github/Mechanics-Mechatronics-and-Robotics/PytorchBasics/blob/main/05_1_gradientDescent_manually.ipynb\" target=\"_parent\"><img src=\"https://colab.research.google.com/assets/colab-badge.svg\" alt=\"Open In Colab\"/></a>"
      ]
    },
    {
      "cell_type": "markdown",
      "source": [
        "# Import libraries"
      ],
      "metadata": {
        "id": "cUmKjfNTKMkh"
      }
    },
    {
      "cell_type": "code",
      "execution_count": null,
      "metadata": {
        "id": "w4v7kmaLJ_O0"
      },
      "outputs": [],
      "source": [
        "import numpy as np\n"
      ]
    },
    {
      "cell_type": "markdown",
      "source": [
        "## Initialization"
      ],
      "metadata": {
        "id": "jNtgNQ3AK5RH"
      }
    },
    {
      "cell_type": "code",
      "source": [
        "#y=2*x\n",
        "X = np.array([1,2,3,4], dtype=np.float32)\n",
        "Y = np.array([2,4,6,8], dtype=np.float32)\n",
        "\n",
        "w = 0.0"
      ],
      "metadata": {
        "id": "fJRe0MBjKMF5"
      },
      "execution_count": null,
      "outputs": []
    },
    {
      "cell_type": "markdown",
      "source": [
        "## Model prediction"
      ],
      "metadata": {
        "id": "9wT0jf47K0Cu"
      }
    },
    {
      "cell_type": "code",
      "source": [
        "def forward(x):\n",
        "  return w*x"
      ],
      "metadata": {
        "id": "mMkRXn6sKxKe"
      },
      "execution_count": null,
      "outputs": []
    },
    {
      "cell_type": "markdown",
      "source": [
        "## Loss that is MSE (mean square error)"
      ],
      "metadata": {
        "id": "Jo4e6JrULHfg"
      }
    },
    {
      "cell_type": "code",
      "source": [
        "def loss(y, y_predicted):\n",
        "  return ((y_predicted - y)**2).mean()"
      ],
      "metadata": {
        "id": "A_cxVyOJLFM3"
      },
      "execution_count": null,
      "outputs": []
    },
    {
      "cell_type": "markdown",
      "source": [
        "## Gradient of the loss"
      ],
      "metadata": {
        "id": "AWkNg51RLNVz"
      }
    },
    {
      "cell_type": "code",
      "source": [],
      "metadata": {
        "id": "wfUslznLLC4o"
      },
      "execution_count": null,
      "outputs": []
    }
  ]
}