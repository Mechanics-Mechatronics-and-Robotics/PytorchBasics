{
  "nbformat": 4,
  "nbformat_minor": 0,
  "metadata": {
    "colab": {
      "provenance": [],
      "authorship_tag": "ABX9TyPKyKU8AWx3m7Lg+KCHCTa4",
      "include_colab_link": true
    },
    "kernelspec": {
      "name": "python3",
      "display_name": "Python 3"
    },
    "language_info": {
      "name": "python"
    }
  },
  "cells": [
    {
      "cell_type": "markdown",
      "metadata": {
        "id": "view-in-github",
        "colab_type": "text"
      },
      "source": [
        "<a href=\"https://colab.research.google.com/github/Mechanics-Mechatronics-and-Robotics/PytorchBasics/blob/main/05_1_gradientDescent_torch_enh2.ipynb\" target=\"_parent\"><img src=\"https://colab.research.google.com/assets/colab-badge.svg\" alt=\"Open In Colab\"/></a>"
      ]
    },
    {
      "cell_type": "markdown",
      "source": [
        "# Import libraries"
      ],
      "metadata": {
        "id": "cUmKjfNTKMkh"
      }
    },
    {
      "cell_type": "code",
      "execution_count": 11,
      "metadata": {
        "id": "w4v7kmaLJ_O0"
      },
      "outputs": [],
      "source": [
        "import torch\n",
        "import torch.nn as nn"
      ]
    },
    {
      "cell_type": "markdown",
      "source": [
        "## Initialization"
      ],
      "metadata": {
        "id": "jNtgNQ3AK5RH"
      }
    },
    {
      "cell_type": "code",
      "source": [
        "#y=2*x\n",
        "X = torch.tensor([[1],[2],[3],[4]], dtype=torch.float32)\n",
        "Y = torch.tensor([[2],[4],[6],[8]], dtype=torch.float32)\n",
        "n_samples, n_features = X.shape\n",
        "print(n_samples, n_features)\n",
        "\n",
        "x_test = torch.tensor([5], dtype=torch.float32)"
      ],
      "metadata": {
        "id": "fJRe0MBjKMF5",
        "colab": {
          "base_uri": "https://localhost:8080/"
        },
        "outputId": "03ad38b4-8db3-4483-cac9-473a24dbdf56"
      },
      "execution_count": 12,
      "outputs": [
        {
          "output_type": "stream",
          "name": "stdout",
          "text": [
            "4 1\n"
          ]
        }
      ]
    },
    {
      "cell_type": "markdown",
      "source": [
        "## Model prediction"
      ],
      "metadata": {
        "id": "9wT0jf47K0Cu"
      }
    },
    {
      "cell_type": "code",
      "source": [
        "input_size = n_features\n",
        "output_size = n_features\n",
        "\n",
        "#The first approach\n",
        "#model = nn.Linear(input_size, output_size)\n",
        "\n",
        "#The second approach\n",
        "class LinearRegression(nn.Module):\n",
        "\n",
        "  def __init__(self, input_dim, output_dim):\n",
        "    super(LinearRegression, self).__init__()\n",
        "    #define layers\n",
        "    self.lin = nn.Linear(input_dim, output_dim)\n",
        "\n",
        "  def forward(self, x):\n",
        "    return self.lin(x)\n",
        "    \n",
        "model = LinearRegression(input_size, output_size)\n",
        "\n",
        "\n",
        "\n",
        "print(f'Prediction before training: f(5) = {model(x_test).item():.3f}')"
      ],
      "metadata": {
        "id": "mMkRXn6sKxKe",
        "colab": {
          "base_uri": "https://localhost:8080/"
        },
        "outputId": "04691717-1a76-4514-bc54-50dbcbef8bcb"
      },
      "execution_count": 13,
      "outputs": [
        {
          "output_type": "stream",
          "name": "stdout",
          "text": [
            "Prediction before training: f(5) = 2.433\n"
          ]
        }
      ]
    },
    {
      "cell_type": "markdown",
      "source": [
        "## Loss that is MSE (mean square error)"
      ],
      "metadata": {
        "id": "Jo4e6JrULHfg"
      }
    },
    {
      "cell_type": "code",
      "source": [
        "loss = nn.MSELoss()\n"
      ],
      "metadata": {
        "id": "r1cSn3uicCJ5"
      },
      "execution_count": 14,
      "outputs": []
    },
    {
      "cell_type": "markdown",
      "source": [
        "# Training"
      ],
      "metadata": {
        "id": "WQJqt-DNYeBo"
      }
    },
    {
      "cell_type": "code",
      "source": [
        "lr = 0.01\n",
        "n = 1000\n",
        "\n",
        "optimizer = torch.optim.SGD(model.parameters(), lr=lr)\n",
        "\n",
        "for epoch in range(n):\n",
        "  #prediciton\n",
        "  y_pred = model(X)\n",
        "  #loss\n",
        "  L = loss(Y, y_pred)\n",
        "  #gradients\n",
        "  L.backward()\n",
        "  #update\n",
        "  optimizer.step()\n",
        "  #zero gradients\n",
        "  optimizer.zero_grad()\n",
        "\n",
        "  if epoch % 100 == 0:\n",
        "    [w,b] = model.parameters()\n",
        "    print(f'epoch {epoch+1}: w = {w[0][0]:.3f}, loss = {L:.8f}')\n",
        "\n",
        "print(f'Prediction after training: f(5) = {model(x_test).item():.3f}')  "
      ],
      "metadata": {
        "colab": {
          "base_uri": "https://localhost:8080/"
        },
        "id": "HZ4xOWowYHgl",
        "outputId": "55f96880-fa67-4778-e185-8fd030bea020"
      },
      "execution_count": 15,
      "outputs": [
        {
          "output_type": "stream",
          "name": "stdout",
          "text": [
            "epoch 1: w = 0.520, loss = 14.74777317\n",
            "epoch 101: w = 1.673, loss = 0.15562177\n",
            "epoch 201: w = 1.757, loss = 0.08543444\n",
            "epoch 301: w = 1.820, loss = 0.04690249\n",
            "epoch 401: w = 1.867, loss = 0.02574889\n",
            "epoch 501: w = 1.901, loss = 0.01413583\n",
            "epoch 601: w = 1.927, loss = 0.00776039\n",
            "epoch 701: w = 1.946, loss = 0.00426037\n",
            "epoch 801: w = 1.960, loss = 0.00233889\n",
            "epoch 901: w = 1.970, loss = 0.00128403\n",
            "Prediction after training: f(5) = 9.954\n"
          ]
        }
      ]
    },
    {
      "cell_type": "code",
      "source": [],
      "metadata": {
        "id": "lv74PTpfZuQc"
      },
      "execution_count": 15,
      "outputs": []
    },
    {
      "cell_type": "code",
      "source": [],
      "metadata": {
        "id": "-p7PDIVfalV8"
      },
      "execution_count": 15,
      "outputs": []
    }
  ]
}