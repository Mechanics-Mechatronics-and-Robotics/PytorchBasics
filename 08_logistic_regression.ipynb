{
  "nbformat": 4,
  "nbformat_minor": 0,
  "metadata": {
    "colab": {
      "provenance": [],
      "authorship_tag": "ABX9TyMW/UtekTEQEhxJPDQvSpdL",
      "include_colab_link": true
    },
    "kernelspec": {
      "name": "python3",
      "display_name": "Python 3"
    },
    "language_info": {
      "name": "python"
    }
  },
  "cells": [
    {
      "cell_type": "markdown",
      "metadata": {
        "id": "view-in-github",
        "colab_type": "text"
      },
      "source": [
        "<a href=\"https://colab.research.google.com/github/Mechanics-Mechatronics-and-Robotics/PytorchBasics/blob/main/08_logistic_regression.ipynb\" target=\"_parent\"><img src=\"https://colab.research.google.com/assets/colab-badge.svg\" alt=\"Open In Colab\"/></a>"
      ]
    },
    {
      "cell_type": "markdown",
      "source": [
        "# Import libraries"
      ],
      "metadata": {
        "id": "cUmKjfNTKMkh"
      }
    },
    {
      "cell_type": "code",
      "execution_count": 1,
      "metadata": {
        "id": "w4v7kmaLJ_O0"
      },
      "outputs": [],
      "source": [
        "import torch\n",
        "import torch.nn as nn\n",
        "import numpy as np\n",
        "from sklearn import datasets\n",
        "from sklearn.preprocessing import StandardScaler\n",
        "from sklearn.model_selection import train_test_split\n",
        "#import matplotlib.pyplot as plt"
      ]
    },
    {
      "cell_type": "markdown",
      "source": [
        "## Initialization"
      ],
      "metadata": {
        "id": "jNtgNQ3AK5RH"
      }
    },
    {
      "cell_type": "code",
      "source": [
        "bc = datasets.load_breast_cancer()\n",
        "\n",
        "X, Y = bc.data, bc.target\n",
        "\n",
        "n_samples, n_features = X.shape\n",
        "\n",
        "X_train, X_test, Y_train, Y_test = train_test_split(X, Y, test_size=0.2, random_state=1234)\n",
        "\n",
        "#scale\n",
        "sc = StandardScaler()\n",
        "X_train = sc.fit_transform(X_train)\n",
        "X_test = sc.transform(X_test)\n",
        "\n",
        "X_train = torch.from_numpy(X_train.astype(np.float32))\n",
        "X_test  = torch.from_numpy(X_test.astype(np.float32))\n",
        "Y_train = torch.from_numpy(Y_train.astype(np.float32))\n",
        "Y_test = torch.from_numpy(Y_test.astype(np.float32))\n",
        "\n",
        "Y_train = Y_train.view(Y_train.shape[0], 1)\n",
        "Y_test = Y_test.view(Y_test.shape[0], 1)\n"
      ],
      "metadata": {
        "id": "fJRe0MBjKMF5"
      },
      "execution_count": 2,
      "outputs": []
    },
    {
      "cell_type": "markdown",
      "source": [
        "## Model prediction"
      ],
      "metadata": {
        "id": "9wT0jf47K0Cu"
      }
    },
    {
      "cell_type": "code",
      "source": [
        "input_size = n_features\n",
        "output_size = 1\n",
        "\n",
        "#The first approach\n",
        "#model = nn.Linear(input_size, output_size)\n",
        "\n",
        "#The second approach\n",
        "class LogisticRegression(nn.Module):\n",
        "\n",
        "  def __init__(self, n_input_features):\n",
        "    super(LogisticRegression, self).__init__()\n",
        "    #define layers\n",
        "    self.linear = nn.Linear(n_input_features, 1)\n",
        "\n",
        "  def forward(self, x):\n",
        "    y_predicted = torch.sigmoid(self.linear(x))\n",
        "    return y_predicted\n",
        "\n",
        "model = LogisticRegression(input_size)"
      ],
      "metadata": {
        "id": "mMkRXn6sKxKe"
      },
      "execution_count": 3,
      "outputs": []
    },
    {
      "cell_type": "markdown",
      "source": [
        "## Loss that is MSE (mean square error)"
      ],
      "metadata": {
        "id": "Jo4e6JrULHfg"
      }
    },
    {
      "cell_type": "code",
      "source": [
        "loss = nn.BCELoss()\n"
      ],
      "metadata": {
        "id": "r1cSn3uicCJ5"
      },
      "execution_count": 4,
      "outputs": []
    },
    {
      "cell_type": "markdown",
      "source": [
        "# Training"
      ],
      "metadata": {
        "id": "WQJqt-DNYeBo"
      }
    },
    {
      "cell_type": "code",
      "source": [
        "lr = 0.01\n",
        "n = 100\n",
        "\n",
        "optimizer = torch.optim.SGD(model.parameters(), lr=lr)\n",
        "\n",
        "for epoch in range(n):\n",
        "  #prediciton\n",
        "  y_pred = model(X_train)\n",
        "  #loss\n",
        "  L = loss(y_pred, Y_train)\n",
        "  #gradients\n",
        "  L.backward()\n",
        "  #update\n",
        "  optimizer.step()\n",
        "  #zero gradients\n",
        "  optimizer.zero_grad()\n",
        "\n",
        "  if (epoch+1) % 10 == 0:\n",
        "    print(f'epoch {epoch+1}: loss = {L.item():.4f}')\n",
        "\n",
        "with torch.no_grad():\n",
        "  y_predicted = model(X_test)\n",
        "  y_predicted_cls = y_predicted.round()\n",
        "  acc = y_predicted_cls.eq(Y_test).sum()/float(Y_test.shape[0])\n",
        "  print(f'accuracy = {acc:.4f}')"
      ],
      "metadata": {
        "colab": {
          "base_uri": "https://localhost:8080/"
        },
        "id": "HZ4xOWowYHgl",
        "outputId": "ca5ff324-3849-4392-c625-37dfe9ff9f01"
      },
      "execution_count": 7,
      "outputs": [
        {
          "output_type": "stream",
          "name": "stdout",
          "text": [
            "epoch 10: loss = 0.2230\n",
            "epoch 20: loss = 0.2148\n",
            "epoch 30: loss = 0.2075\n",
            "epoch 40: loss = 0.2009\n",
            "epoch 50: loss = 0.1948\n",
            "epoch 60: loss = 0.1893\n",
            "epoch 70: loss = 0.1843\n",
            "epoch 80: loss = 0.1796\n",
            "epoch 90: loss = 0.1753\n",
            "epoch 100: loss = 0.1713\n",
            "accuracy = 0.9123\n"
          ]
        }
      ]
    },
    {
      "cell_type": "markdown",
      "source": [
        "## Visualization"
      ],
      "metadata": {
        "id": "s-gPuvCtjzDC"
      }
    },
    {
      "cell_type": "code",
      "source": [
        "# plt.plot(X_numpy, Y_numpy, 'ro')\n",
        "# plt.plot(X_numpy, predicted, 'b')"
      ],
      "metadata": {
        "id": "lv74PTpfZuQc"
      },
      "execution_count": 6,
      "outputs": []
    },
    {
      "cell_type": "code",
      "source": [],
      "metadata": {
        "id": "-p7PDIVfalV8"
      },
      "execution_count": 6,
      "outputs": []
    }
  ]
}