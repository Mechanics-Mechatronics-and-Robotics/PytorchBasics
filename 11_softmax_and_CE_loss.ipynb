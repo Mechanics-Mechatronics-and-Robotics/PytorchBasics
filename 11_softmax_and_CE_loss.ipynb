{
  "nbformat": 4,
  "nbformat_minor": 0,
  "metadata": {
    "colab": {
      "provenance": [],
      "mount_file_id": "https://github.com/Mechanics-Mechatronics-and-Robotics/PytorchBasics/blob/main/05_1_gradientDescent_torch.ipynb",
      "authorship_tag": "ABX9TyM6ogYvslCcDsaStiEEZsn9",
      "include_colab_link": true
    },
    "kernelspec": {
      "name": "python3",
      "display_name": "Python 3"
    },
    "language_info": {
      "name": "python"
    }
  },
  "cells": [
    {
      "cell_type": "markdown",
      "metadata": {
        "id": "view-in-github",
        "colab_type": "text"
      },
      "source": [
        "<a href=\"https://colab.research.google.com/github/Mechanics-Mechatronics-and-Robotics/PytorchBasics/blob/main/11_softmax_and_CE_loss.ipynb\" target=\"_parent\"><img src=\"https://colab.research.google.com/assets/colab-badge.svg\" alt=\"Open In Colab\"/></a>"
      ]
    },
    {
      "cell_type": "markdown",
      "source": [
        "# Import libraries"
      ],
      "metadata": {
        "id": "cUmKjfNTKMkh"
      }
    },
    {
      "cell_type": "code",
      "execution_count": 1,
      "metadata": {
        "id": "w4v7kmaLJ_O0"
      },
      "outputs": [],
      "source": [
        "import torch\n",
        "import torch.nn as nn\n",
        "import torchvision\n",
        "from torch.utils.data import Dataset, DataLoader\n",
        "import numpy as np\n",
        "import math\n",
        "\n",
        "from google.colab import drive"
      ]
    },
    {
      "cell_type": "markdown",
      "source": [
        "## Initialization"
      ],
      "metadata": {
        "id": "jNtgNQ3AK5RH"
      }
    },
    {
      "cell_type": "code",
      "source": [
        "def softmax(x):\n",
        "  return np.exp(x)/np.sum(np.exp(x), axis=0)"
      ],
      "metadata": {
        "id": "fJRe0MBjKMF5"
      },
      "execution_count": 2,
      "outputs": []
    },
    {
      "cell_type": "code",
      "source": [
        "def cross_entropy(actual, predicted):\n",
        "  loss = np.sum(actual = np.log(predicted))\n",
        "  return loss # / float(predicted.shape[0])"
      ],
      "metadata": {
        "id": "OajNJ5c_Z-Y4"
      },
      "execution_count": 3,
      "outputs": []
    },
    {
      "cell_type": "code",
      "source": [
        "x = np.array([2.0, 1.0, 0.1])\n",
        "outputs = softmax(x)\n",
        "print('softmax', outputs)"
      ],
      "metadata": {
        "id": "J7_ZUFw-YeXp",
        "outputId": "05cc69eb-1cc4-4921-93f3-d7edd09cbf55",
        "colab": {
          "base_uri": "https://localhost:8080/"
        }
      },
      "execution_count": 4,
      "outputs": [
        {
          "output_type": "stream",
          "name": "stdout",
          "text": [
            "softmax [0.65900114 0.24243297 0.09856589]\n"
          ]
        }
      ]
    },
    {
      "cell_type": "code",
      "source": [
        "x = torch.tensor([2.0, 1.0, 0.1])\n",
        "outputs = torch.softmax(x,dim=0)\n",
        "outputs"
      ],
      "metadata": {
        "id": "5O_8CxU3ZVuA",
        "outputId": "93f55a93-cfd3-4a0c-eaf9-2e7bd7983fe7",
        "colab": {
          "base_uri": "https://localhost:8080/"
        }
      },
      "execution_count": 5,
      "outputs": [
        {
          "output_type": "execute_result",
          "data": {
            "text/plain": [
              "tensor([0.6590, 0.2424, 0.0986])"
            ]
          },
          "metadata": {},
          "execution_count": 5
        }
      ]
    },
    {
      "cell_type": "code",
      "source": [
        "Y = np.array([1, 0, 0])"
      ],
      "metadata": {
        "id": "puIe0GJWag4D"
      },
      "execution_count": 6,
      "outputs": []
    },
    {
      "cell_type": "code",
      "source": [
        "loss = nn.CrossEntropyLoss()"
      ],
      "metadata": {
        "id": "SEk2luMbaqs2"
      },
      "execution_count": 7,
      "outputs": []
    },
    {
      "cell_type": "code",
      "source": [
        "# 3 samples\n",
        "Y = torch.tensor([2, 0, 1])\n",
        "# n samples x n classes = 3 x 3\n",
        "Y_pred_good = torch.tensor([[1.0, 1.0, 2.0], [2.0, 1.0, 0.1], [1.0, 2.0, 0.1]])\n",
        "Y_pred_bad = torch.tensor([[1.0, 1.0, 0.2], [1.0, 2.0, 0.1], [2.0, 1.0, 0.1]])"
      ],
      "metadata": {
        "id": "bsWoMnnQbEpf"
      },
      "execution_count": 17,
      "outputs": []
    },
    {
      "cell_type": "code",
      "source": [
        "l1 = loss(Y_pred_good, Y)\n",
        "l2 = loss(Y_pred_bad, Y)\n",
        "l1.item(), l2.item()"
      ],
      "metadata": {
        "id": "abl3yAD8bcNJ",
        "outputId": "863e834e-e337-46db-9e51-c2501e4ca6c5",
        "colab": {
          "base_uri": "https://localhost:8080/"
        }
      },
      "execution_count": 18,
      "outputs": [
        {
          "output_type": "execute_result",
          "data": {
            "text/plain": [
              "(0.4618348777294159, 1.5099579095840454)"
            ]
          },
          "metadata": {},
          "execution_count": 18
        }
      ]
    },
    {
      "cell_type": "code",
      "source": [
        "_, predictions1 = torch.max(Y_pred_good, 1)\n",
        "_, predictions2 = torch.max(Y_pred_bad, 1)\n",
        "predictions1, predictions2"
      ],
      "metadata": {
        "id": "qOHnEwZhcLle",
        "outputId": "3358a761-c445-453a-c72c-cd57a106c47e",
        "colab": {
          "base_uri": "https://localhost:8080/"
        }
      },
      "execution_count": 19,
      "outputs": [
        {
          "output_type": "execute_result",
          "data": {
            "text/plain": [
              "(tensor([2, 0, 1]), tensor([0, 1, 0]))"
            ]
          },
          "metadata": {},
          "execution_count": 19
        }
      ]
    },
    {
      "cell_type": "markdown",
      "source": [],
      "metadata": {
        "id": "4n2cY8DjDeow"
      }
    }
  ]
}